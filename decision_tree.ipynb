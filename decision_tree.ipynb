{
 "cells": [
  {
   "cell_type": "markdown",
   "metadata": {},
   "source": [
    "# Decision Tree Analysis\n",
    "\n",
    "Analyze the nba gamelog data to see if decision trees can determine whether a team will win or lose.\n"
   ]
  },
  {
   "cell_type": "code",
   "execution_count": 19,
   "metadata": {},
   "outputs": [],
   "source": [
    "import pandas as pd\n",
    "import matplotlib.pyplot as plt\n",
    "from src.util import load_cleaned_gamelog, encode_data"
   ]
  },
  {
   "cell_type": "code",
   "execution_count": 20,
   "metadata": {},
   "outputs": [
    {
     "data": {
      "text/html": [
       "<div>\n",
       "<style scoped>\n",
       "    .dataframe tbody tr th:only-of-type {\n",
       "        vertical-align: middle;\n",
       "    }\n",
       "\n",
       "    .dataframe tbody tr th {\n",
       "        vertical-align: top;\n",
       "    }\n",
       "\n",
       "    .dataframe thead th {\n",
       "        text-align: right;\n",
       "    }\n",
       "</style>\n",
       "<table border=\"1\" class=\"dataframe\">\n",
       "  <thead>\n",
       "    <tr style=\"text-align: right;\">\n",
       "      <th></th>\n",
       "      <th>season</th>\n",
       "      <th>game</th>\n",
       "      <th>date</th>\n",
       "      <th>team_score</th>\n",
       "      <th>opp_score</th>\n",
       "      <th>team_fg</th>\n",
       "      <th>team_fga</th>\n",
       "      <th>team_fgp</th>\n",
       "      <th>team_3p</th>\n",
       "      <th>team_3pa</th>\n",
       "      <th>...</th>\n",
       "      <th>away_OKC</th>\n",
       "      <th>away_ORL</th>\n",
       "      <th>away_PHI</th>\n",
       "      <th>away_PHO</th>\n",
       "      <th>away_POR</th>\n",
       "      <th>away_SAC</th>\n",
       "      <th>away_SAS</th>\n",
       "      <th>away_TOR</th>\n",
       "      <th>away_UTA</th>\n",
       "      <th>away_WAS</th>\n",
       "    </tr>\n",
       "  </thead>\n",
       "  <tbody>\n",
       "    <tr>\n",
       "      <th>0</th>\n",
       "      <td>2000</td>\n",
       "      <td>1</td>\n",
       "      <td>941522400.0</td>\n",
       "      <td>87</td>\n",
       "      <td>94</td>\n",
       "      <td>31</td>\n",
       "      <td>78</td>\n",
       "      <td>0.397</td>\n",
       "      <td>2</td>\n",
       "      <td>6</td>\n",
       "      <td>...</td>\n",
       "      <td>False</td>\n",
       "      <td>False</td>\n",
       "      <td>False</td>\n",
       "      <td>False</td>\n",
       "      <td>False</td>\n",
       "      <td>False</td>\n",
       "      <td>False</td>\n",
       "      <td>False</td>\n",
       "      <td>False</td>\n",
       "      <td>True</td>\n",
       "    </tr>\n",
       "    <tr>\n",
       "      <th>1</th>\n",
       "      <td>2000</td>\n",
       "      <td>2</td>\n",
       "      <td>941695200.0</td>\n",
       "      <td>109</td>\n",
       "      <td>119</td>\n",
       "      <td>41</td>\n",
       "      <td>83</td>\n",
       "      <td>0.494</td>\n",
       "      <td>6</td>\n",
       "      <td>14</td>\n",
       "      <td>...</td>\n",
       "      <td>False</td>\n",
       "      <td>False</td>\n",
       "      <td>False</td>\n",
       "      <td>False</td>\n",
       "      <td>False</td>\n",
       "      <td>False</td>\n",
       "      <td>False</td>\n",
       "      <td>False</td>\n",
       "      <td>False</td>\n",
       "      <td>False</td>\n",
       "    </tr>\n",
       "    <tr>\n",
       "      <th>2</th>\n",
       "      <td>2000</td>\n",
       "      <td>3</td>\n",
       "      <td>941868000.0</td>\n",
       "      <td>113</td>\n",
       "      <td>97</td>\n",
       "      <td>44</td>\n",
       "      <td>81</td>\n",
       "      <td>0.543</td>\n",
       "      <td>3</td>\n",
       "      <td>8</td>\n",
       "      <td>...</td>\n",
       "      <td>False</td>\n",
       "      <td>False</td>\n",
       "      <td>False</td>\n",
       "      <td>False</td>\n",
       "      <td>False</td>\n",
       "      <td>False</td>\n",
       "      <td>False</td>\n",
       "      <td>False</td>\n",
       "      <td>False</td>\n",
       "      <td>False</td>\n",
       "    </tr>\n",
       "    <tr>\n",
       "      <th>3</th>\n",
       "      <td>2000</td>\n",
       "      <td>4</td>\n",
       "      <td>942040800.0</td>\n",
       "      <td>100</td>\n",
       "      <td>115</td>\n",
       "      <td>39</td>\n",
       "      <td>82</td>\n",
       "      <td>0.476</td>\n",
       "      <td>0</td>\n",
       "      <td>7</td>\n",
       "      <td>...</td>\n",
       "      <td>False</td>\n",
       "      <td>False</td>\n",
       "      <td>False</td>\n",
       "      <td>False</td>\n",
       "      <td>False</td>\n",
       "      <td>False</td>\n",
       "      <td>False</td>\n",
       "      <td>False</td>\n",
       "      <td>False</td>\n",
       "      <td>False</td>\n",
       "    </tr>\n",
       "    <tr>\n",
       "      <th>4</th>\n",
       "      <td>2000</td>\n",
       "      <td>5</td>\n",
       "      <td>942213600.0</td>\n",
       "      <td>97</td>\n",
       "      <td>102</td>\n",
       "      <td>39</td>\n",
       "      <td>92</td>\n",
       "      <td>0.424</td>\n",
       "      <td>1</td>\n",
       "      <td>7</td>\n",
       "      <td>...</td>\n",
       "      <td>False</td>\n",
       "      <td>False</td>\n",
       "      <td>False</td>\n",
       "      <td>False</td>\n",
       "      <td>False</td>\n",
       "      <td>False</td>\n",
       "      <td>False</td>\n",
       "      <td>False</td>\n",
       "      <td>False</td>\n",
       "      <td>False</td>\n",
       "    </tr>\n",
       "  </tbody>\n",
       "</table>\n",
       "<p>5 rows × 172 columns</p>\n",
       "</div>"
      ],
      "text/plain": [
       "   season  game         date  team_score  opp_score  team_fg  team_fga  \\\n",
       "0    2000     1  941522400.0          87         94       31        78   \n",
       "1    2000     2  941695200.0         109        119       41        83   \n",
       "2    2000     3  941868000.0         113         97       44        81   \n",
       "3    2000     4  942040800.0         100        115       39        82   \n",
       "4    2000     5  942213600.0          97        102       39        92   \n",
       "\n",
       "   team_fgp  team_3p  team_3pa  ...  away_OKC  away_ORL  away_PHI  away_PHO  \\\n",
       "0     0.397        2         6  ...     False     False     False     False   \n",
       "1     0.494        6        14  ...     False     False     False     False   \n",
       "2     0.543        3         8  ...     False     False     False     False   \n",
       "3     0.476        0         7  ...     False     False     False     False   \n",
       "4     0.424        1         7  ...     False     False     False     False   \n",
       "\n",
       "   away_POR  away_SAC  away_SAS  away_TOR  away_UTA  away_WAS  \n",
       "0     False     False     False     False     False      True  \n",
       "1     False     False     False     False     False     False  \n",
       "2     False     False     False     False     False     False  \n",
       "3     False     False     False     False     False     False  \n",
       "4     False     False     False     False     False     False  \n",
       "\n",
       "[5 rows x 172 columns]"
      ]
     },
     "execution_count": 20,
     "metadata": {},
     "output_type": "execute_result"
    }
   ],
   "source": [
    "data = load_cleaned_gamelog()\n",
    "nba_gamelog_data = encode_data(data)\n",
    "nba_gamelog_data.head()"
   ]
  },
  {
   "cell_type": "code",
   "execution_count": 21,
   "metadata": {},
   "outputs": [
    {
     "data": {
      "text/plain": [
       "0.9926783585901584"
      ]
     },
     "execution_count": 21,
     "metadata": {},
     "output_type": "execute_result"
    }
   ],
   "source": [
    "from sklearn.tree import DecisionTreeClassifier\n",
    "from sklearn.metrics import accuracy_score\n",
    "from src.util import split_data\n",
    "\n",
    "X_train, X_test, y_train, y_test = split_data(nba_gamelog_data)\n",
    "model = DecisionTreeClassifier(criterion=\"gini\", random_state=42)\n",
    "model.fit(X_train, y_train)\n",
    "y_pred = model.predict(X_test)\n",
    "accuracy_score(y_test, y_pred)"
   ]
  },
  {
   "cell_type": "code",
   "execution_count": 22,
   "metadata": {},
   "outputs": [
    {
     "data": {
      "text/plain": [
       "0.9938702537033884"
      ]
     },
     "execution_count": 22,
     "metadata": {},
     "output_type": "execute_result"
    }
   ],
   "source": [
    "X_train, X_test, y_train, y_test = split_data(nba_gamelog_data)\n",
    "model = DecisionTreeClassifier(criterion=\"entropy\", random_state=42)\n",
    "model.fit(X_train, y_train)\n",
    "y_pred = model.predict(X_test)\n",
    "accuracy_score(y_test, y_pred)"
   ]
  },
  {
   "cell_type": "code",
   "execution_count": 23,
   "metadata": {},
   "outputs": [
    {
     "data": {
      "text/plain": [
       "0.9938702537033884"
      ]
     },
     "execution_count": 23,
     "metadata": {},
     "output_type": "execute_result"
    }
   ],
   "source": [
    "X_train, X_test, y_train, y_test = split_data(nba_gamelog_data)\n",
    "model = DecisionTreeClassifier(criterion=\"log_loss\", random_state=42)\n",
    "model.fit(X_train, y_train)\n",
    "y_pred = model.predict(X_test)\n",
    "accuracy_score(y_test, y_pred)"
   ]
  }
 ],
 "metadata": {
  "kernelspec": {
   "display_name": "Python 3",
   "language": "python",
   "name": "python3"
  },
  "language_info": {
   "codemirror_mode": {
    "name": "ipython",
    "version": 3
   },
   "file_extension": ".py",
   "mimetype": "text/x-python",
   "name": "python",
   "nbconvert_exporter": "python",
   "pygments_lexer": "ipython3",
   "version": "3.11.6"
  }
 },
 "nbformat": 4,
 "nbformat_minor": 2
}
